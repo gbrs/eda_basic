{
 "cells": [
  {
   "cell_type": "markdown",
   "id": "0702d71c-4fda-445e-8102-b8e2b13672a0",
   "metadata": {},
   "source": [
    "# Basic Exploratory Data Analysis"
   ]
  },
  {
   "cell_type": "markdown",
   "id": "7ae60733-8a9e-4b12-a640-ab7beea3d629",
   "metadata": {},
   "source": [
    "https://machinelearningmastery.ru/exploratory-data-analysis-eda-a-practical-guide-and-template-for-structured-data-abfbf3ee3bd9/  ///  с eda(df)  \n",
    "https://gist.github.com/jiahao87/c97214065f996b76ab8fe4ca1964b2b5  \n",
    "https://dev-gang.ru/article/polnoe-rukovodstvo-po-issledovatelskomu-analizu-dannyh-85wltgnosc/  \n",
    "https://waksoft.susu.ru/2021/07/23/issledovatelskij-analiz-dannyh-v-python-rukovodstvo-dlya-novichkov-na-2021-god/  \n",
    "https://toadmin.ru/как-выполнить-исследовательский-ана/  \n",
    "https://www.helenkapatsa.ru/razvedochnyy-analiz-dannykh-chast-1/  \n",
    "https://www.dmitrymakarov.ru/data-analysis/eda-04/  \n",
    "https://www.kaggle.com/code/emstrakhov/lesson-1-eda-with-pandas"
   ]
  },
  {
   "cell_type": "markdown",
   "id": "e63fbdc3-8960-43ad-8e40-ef34886b0975",
   "metadata": {},
   "source": [
    "- Предварительный просмотр данных ( df.sample(5) )\n",
    "- Переименование полей ( df.columns = df.columns.str.lower().str.replace(' ',  '\\_') )\n",
    "- Общее количество записей и типов столбцов ( df.shape, df.info() )\n",
    "- Проверить любые нулевые значения ( df.isnull().sum() )\n",
    "- Проверить дубликаты записей ( df[df.duplicated()].shape[0] )\n",
    "- Преобразование типов данных (время, категориальные типы данных)  \n",
    "- График распределения числовых данных (одномерное и парное совместное распределение)\n",
    "- Распределение количества данных категориальных данных\n",
    "- Анализировать временные ряды числовых данных по дням, месяцам и годам."
   ]
  },
  {
   "cell_type": "code",
   "execution_count": 3,
   "id": "329e88c8-a835-4fc5-ac18-b6dc5052e492",
   "metadata": {},
   "outputs": [],
   "source": [
    "import numpy as np\n",
    "import pandas as pd\n",
    "import matplotlib\n",
    "import matplotlib.pyplot as plt\n",
    "import seaborn as sns"
   ]
  },
  {
   "cell_type": "code",
   "execution_count": null,
   "id": "7529f47a-0874-47db-a4d9-20f141f317ab",
   "metadata": {},
   "outputs": [],
   "source": []
  },
  {
   "cell_type": "code",
   "execution_count": 6,
   "id": "638ce447-2332-4412-ab5f-3d97962cd606",
   "metadata": {},
   "outputs": [],
   "source": [
    "df = sns.load_dataset('taxis')"
   ]
  },
  {
   "cell_type": "code",
   "execution_count": 8,
   "id": "c8cb6267-d807-4e02-a312-832cdea9e770",
   "metadata": {},
   "outputs": [
    {
     "data": {
      "text/html": [
       "<div>\n",
       "<style scoped>\n",
       "    .dataframe tbody tr th:only-of-type {\n",
       "        vertical-align: middle;\n",
       "    }\n",
       "\n",
       "    .dataframe tbody tr th {\n",
       "        vertical-align: top;\n",
       "    }\n",
       "\n",
       "    .dataframe thead th {\n",
       "        text-align: right;\n",
       "    }\n",
       "</style>\n",
       "<table border=\"1\" class=\"dataframe\">\n",
       "  <thead>\n",
       "    <tr style=\"text-align: right;\">\n",
       "      <th></th>\n",
       "      <th>pickup</th>\n",
       "      <th>dropoff</th>\n",
       "      <th>passengers</th>\n",
       "      <th>distance</th>\n",
       "      <th>fare</th>\n",
       "      <th>tip</th>\n",
       "      <th>tolls</th>\n",
       "      <th>total</th>\n",
       "      <th>color</th>\n",
       "      <th>payment</th>\n",
       "      <th>pickup_zone</th>\n",
       "      <th>dropoff_zone</th>\n",
       "      <th>pickup_borough</th>\n",
       "      <th>dropoff_borough</th>\n",
       "    </tr>\n",
       "  </thead>\n",
       "  <tbody>\n",
       "    <tr>\n",
       "      <th>891</th>\n",
       "      <td>2019-03-29 17:14:39</td>\n",
       "      <td>2019-03-29 17:22:49</td>\n",
       "      <td>1</td>\n",
       "      <td>0.71</td>\n",
       "      <td>6.5</td>\n",
       "      <td>1.62</td>\n",
       "      <td>0.0</td>\n",
       "      <td>12.42</td>\n",
       "      <td>yellow</td>\n",
       "      <td>credit card</td>\n",
       "      <td>Gramercy</td>\n",
       "      <td>Murray Hill</td>\n",
       "      <td>Manhattan</td>\n",
       "      <td>Manhattan</td>\n",
       "    </tr>\n",
       "    <tr>\n",
       "      <th>1399</th>\n",
       "      <td>2019-03-06 13:58:42</td>\n",
       "      <td>2019-03-06 14:12:15</td>\n",
       "      <td>1</td>\n",
       "      <td>0.80</td>\n",
       "      <td>9.0</td>\n",
       "      <td>1.50</td>\n",
       "      <td>0.0</td>\n",
       "      <td>13.80</td>\n",
       "      <td>yellow</td>\n",
       "      <td>credit card</td>\n",
       "      <td>Midtown North</td>\n",
       "      <td>Midtown East</td>\n",
       "      <td>Manhattan</td>\n",
       "      <td>Manhattan</td>\n",
       "    </tr>\n",
       "    <tr>\n",
       "      <th>1409</th>\n",
       "      <td>2019-03-20 08:09:40</td>\n",
       "      <td>2019-03-20 08:11:55</td>\n",
       "      <td>1</td>\n",
       "      <td>0.58</td>\n",
       "      <td>4.0</td>\n",
       "      <td>1.46</td>\n",
       "      <td>0.0</td>\n",
       "      <td>8.76</td>\n",
       "      <td>yellow</td>\n",
       "      <td>credit card</td>\n",
       "      <td>Yorkville East</td>\n",
       "      <td>Lenox Hill East</td>\n",
       "      <td>Manhattan</td>\n",
       "      <td>Manhattan</td>\n",
       "    </tr>\n",
       "    <tr>\n",
       "      <th>6364</th>\n",
       "      <td>2019-03-06 16:13:48</td>\n",
       "      <td>2019-03-06 16:34:05</td>\n",
       "      <td>3</td>\n",
       "      <td>6.82</td>\n",
       "      <td>23.5</td>\n",
       "      <td>5.61</td>\n",
       "      <td>0.0</td>\n",
       "      <td>33.66</td>\n",
       "      <td>green</td>\n",
       "      <td>credit card</td>\n",
       "      <td>Washington Heights South</td>\n",
       "      <td>West Chelsea/Hudson Yards</td>\n",
       "      <td>Manhattan</td>\n",
       "      <td>Manhattan</td>\n",
       "    </tr>\n",
       "    <tr>\n",
       "      <th>3363</th>\n",
       "      <td>2019-03-18 21:08:22</td>\n",
       "      <td>2019-03-18 21:14:39</td>\n",
       "      <td>6</td>\n",
       "      <td>1.52</td>\n",
       "      <td>7.0</td>\n",
       "      <td>2.16</td>\n",
       "      <td>0.0</td>\n",
       "      <td>12.96</td>\n",
       "      <td>yellow</td>\n",
       "      <td>credit card</td>\n",
       "      <td>Midtown South</td>\n",
       "      <td>Midtown North</td>\n",
       "      <td>Manhattan</td>\n",
       "      <td>Manhattan</td>\n",
       "    </tr>\n",
       "  </tbody>\n",
       "</table>\n",
       "</div>"
      ],
      "text/plain": [
       "                   pickup              dropoff  passengers  distance  fare  \\\n",
       "891   2019-03-29 17:14:39  2019-03-29 17:22:49           1      0.71   6.5   \n",
       "1399  2019-03-06 13:58:42  2019-03-06 14:12:15           1      0.80   9.0   \n",
       "1409  2019-03-20 08:09:40  2019-03-20 08:11:55           1      0.58   4.0   \n",
       "6364  2019-03-06 16:13:48  2019-03-06 16:34:05           3      6.82  23.5   \n",
       "3363  2019-03-18 21:08:22  2019-03-18 21:14:39           6      1.52   7.0   \n",
       "\n",
       "       tip  tolls  total   color      payment               pickup_zone  \\\n",
       "891   1.62    0.0  12.42  yellow  credit card                  Gramercy   \n",
       "1399  1.50    0.0  13.80  yellow  credit card             Midtown North   \n",
       "1409  1.46    0.0   8.76  yellow  credit card            Yorkville East   \n",
       "6364  5.61    0.0  33.66   green  credit card  Washington Heights South   \n",
       "3363  2.16    0.0  12.96  yellow  credit card             Midtown South   \n",
       "\n",
       "                   dropoff_zone pickup_borough dropoff_borough  \n",
       "891                 Murray Hill      Manhattan       Manhattan  \n",
       "1399               Midtown East      Manhattan       Manhattan  \n",
       "1409            Lenox Hill East      Manhattan       Manhattan  \n",
       "6364  West Chelsea/Hudson Yards      Manhattan       Manhattan  \n",
       "3363              Midtown North      Manhattan       Manhattan  "
      ]
     },
     "execution_count": 8,
     "metadata": {},
     "output_type": "execute_result"
    }
   ],
   "source": [
    "df.sample(5)"
   ]
  },
  {
   "cell_type": "code",
   "execution_count": 9,
   "id": "85226ad1-e087-425d-b18d-8d5658b5d430",
   "metadata": {},
   "outputs": [
    {
     "data": {
      "text/plain": [
       "(6433, 14)"
      ]
     },
     "execution_count": 9,
     "metadata": {},
     "output_type": "execute_result"
    }
   ],
   "source": [
    "df.shape"
   ]
  },
  {
   "cell_type": "code",
   "execution_count": 10,
   "id": "321f8b1e-6209-4eef-ac97-d80b18d89dc8",
   "metadata": {},
   "outputs": [
    {
     "name": "stdout",
     "output_type": "stream",
     "text": [
      "<class 'pandas.core.frame.DataFrame'>\n",
      "RangeIndex: 6433 entries, 0 to 6432\n",
      "Data columns (total 14 columns):\n",
      " #   Column           Non-Null Count  Dtype  \n",
      "---  ------           --------------  -----  \n",
      " 0   pickup           6433 non-null   object \n",
      " 1   dropoff          6433 non-null   object \n",
      " 2   passengers       6433 non-null   int64  \n",
      " 3   distance         6433 non-null   float64\n",
      " 4   fare             6433 non-null   float64\n",
      " 5   tip              6433 non-null   float64\n",
      " 6   tolls            6433 non-null   float64\n",
      " 7   total            6433 non-null   float64\n",
      " 8   color            6433 non-null   object \n",
      " 9   payment          6389 non-null   object \n",
      " 10  pickup_zone      6407 non-null   object \n",
      " 11  dropoff_zone     6388 non-null   object \n",
      " 12  pickup_borough   6407 non-null   object \n",
      " 13  dropoff_borough  6388 non-null   object \n",
      "dtypes: float64(5), int64(1), object(8)\n",
      "memory usage: 703.7+ KB\n"
     ]
    }
   ],
   "source": [
    "df.info()"
   ]
  },
  {
   "cell_type": "code",
   "execution_count": 12,
   "id": "92ceac82-5248-48b4-9498-c078123fe416",
   "metadata": {},
   "outputs": [
    {
     "data": {
      "text/plain": [
       "pickup              0\n",
       "dropoff             0\n",
       "passengers          0\n",
       "distance            0\n",
       "fare                0\n",
       "tip                 0\n",
       "tolls               0\n",
       "total               0\n",
       "color               0\n",
       "payment            44\n",
       "pickup_zone        26\n",
       "dropoff_zone       45\n",
       "pickup_borough     26\n",
       "dropoff_borough    45\n",
       "dtype: int64"
      ]
     },
     "execution_count": 12,
     "metadata": {},
     "output_type": "execute_result"
    }
   ],
   "source": [
    "df.isnull().sum()"
   ]
  },
  {
   "cell_type": "code",
   "execution_count": 16,
   "id": "0e61eb91-c2fc-4dcc-aa36-79985c49d6fe",
   "metadata": {},
   "outputs": [
    {
     "data": {
      "text/plain": [
       "0"
      ]
     },
     "execution_count": 16,
     "metadata": {},
     "output_type": "execute_result"
    }
   ],
   "source": [
    "df[df.duplicated()].shape[0]"
   ]
  },
  {
   "cell_type": "code",
   "execution_count": null,
   "id": "b937dab8-8821-4d6c-9e76-223ecb302e1d",
   "metadata": {},
   "outputs": [],
   "source": []
  },
  {
   "cell_type": "code",
   "execution_count": null,
   "id": "0f6a7c5c-e10e-458f-b690-77da3c22283d",
   "metadata": {},
   "outputs": [],
   "source": []
  },
  {
   "cell_type": "code",
   "execution_count": null,
   "id": "abfc385b-0679-4b0f-92ae-b1c700b451fc",
   "metadata": {},
   "outputs": [],
   "source": []
  }
 ],
 "metadata": {
  "kernelspec": {
   "display_name": "Python 3",
   "language": "python",
   "name": "python3"
  },
  "language_info": {
   "codemirror_mode": {
    "name": "ipython",
    "version": 3
   },
   "file_extension": ".py",
   "mimetype": "text/x-python",
   "name": "python",
   "nbconvert_exporter": "python",
   "pygments_lexer": "ipython3",
   "version": "3.8.8"
  }
 },
 "nbformat": 4,
 "nbformat_minor": 5
}
