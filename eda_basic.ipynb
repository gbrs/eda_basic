{
 "cells": [
  {
   "cell_type": "markdown",
   "id": "0702d71c-4fda-445e-8102-b8e2b13672a0",
   "metadata": {},
   "source": [
    "# Basic Exploratory Data Analysis"
   ]
  },
  {
   "cell_type": "markdown",
   "id": "7ae60733-8a9e-4b12-a640-ab7beea3d629",
   "metadata": {},
   "source": [
    "https://machinelearningmastery.ru/exploratory-data-analysis-eda-a-practical-guide-and-template-for-structured-data-abfbf3ee3bd9/  \n",
    "https://dev-gang.ru/article/polnoe-rukovodstvo-po-issledovatelskomu-analizu-dannyh-85wltgnosc/  \n",
    "https://waksoft.susu.ru/2021/07/23/issledovatelskij-analiz-dannyh-v-python-rukovodstvo-dlya-novichkov-na-2021-god/  \n",
    "https://toadmin.ru/как-выполнить-исследовательский-ана/  \n",
    "https://www.helenkapatsa.ru/razvedochnyy-analiz-dannykh-chast-1/  \n",
    "https://www.dmitrymakarov.ru/data-analysis/eda-04/  \n",
    "https://www.kaggle.com/code/emstrakhov/lesson-1-eda-with-pandas"
   ]
  },
  {
   "cell_type": "code",
   "execution_count": null,
   "id": "329e88c8-a835-4fc5-ac18-b6dc5052e492",
   "metadata": {},
   "outputs": [],
   "source": []
  },
  {
   "cell_type": "code",
   "execution_count": null,
   "id": "7529f47a-0874-47db-a4d9-20f141f317ab",
   "metadata": {},
   "outputs": [],
   "source": []
  },
  {
   "cell_type": "code",
   "execution_count": null,
   "id": "abfc385b-0679-4b0f-92ae-b1c700b451fc",
   "metadata": {},
   "outputs": [],
   "source": []
  }
 ],
 "metadata": {
  "kernelspec": {
   "display_name": "Python 3",
   "language": "python",
   "name": "python3"
  },
  "language_info": {
   "codemirror_mode": {
    "name": "ipython",
    "version": 3
   },
   "file_extension": ".py",
   "mimetype": "text/x-python",
   "name": "python",
   "nbconvert_exporter": "python",
   "pygments_lexer": "ipython3",
   "version": "3.8.8"
  }
 },
 "nbformat": 4,
 "nbformat_minor": 5
}
